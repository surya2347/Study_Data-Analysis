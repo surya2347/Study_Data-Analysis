{
  "nbformat": 4,
  "nbformat_minor": 0,
  "metadata": {
    "colab": {
      "provenance": [],
      "authorship_tag": "ABX9TyM9SoAl+fIYVaxmZ4C5gajS",
      "include_colab_link": true
    },
    "kernelspec": {
      "name": "python3",
      "display_name": "Python 3"
    },
    "language_info": {
      "name": "python"
    }
  },
  "cells": [
    {
      "cell_type": "markdown",
      "metadata": {
        "id": "view-in-github",
        "colab_type": "text"
      },
      "source": [
        "<a href=\"https://colab.research.google.com/github/surya2347/Study_Data-Analysis/blob/main/2%EC%9D%BC%EC%B0%A8.ipynb\" target=\"_parent\"><img src=\"https://colab.research.google.com/assets/colab-badge.svg\" alt=\"Open In Colab\"/></a>"
      ]
    },
    {
      "cell_type": "code",
      "execution_count": 3,
      "metadata": {
        "colab": {
          "base_uri": "https://localhost:8080/"
        },
        "id": "jOh4nlw35pSu",
        "outputId": "11f2383e-cb1e-4839-c8f0-7ace5bbaf835"
      },
      "outputs": [
        {
          "output_type": "stream",
          "name": "stdout",
          "text": [
            "True\n",
            "False\n",
            "False\n",
            "True\n"
          ]
        }
      ],
      "source": [
        "st1 = \"123\"\n",
        "st2 = \"OneTwoThree\"\n",
        "# 숫자만로 이루어져있는지 확인\n",
        "print(st1.isdigit())   # 문자열로 이루어진 숫자여도 ok, 그냥 정수 숫자여도 ok\n",
        "print(st2.isdigit())\n",
        "# 문자로만 이루어져있는지 확인\n",
        "print(st1.isalpha())\n",
        "print(st2.isalpha())\n",
        "\n",
        "str.startswith(\"abc\")   # str이 \"abc로 시작하는지 확인하는 메서드\" True/Flase\n"
      ]
    },
    {
      "cell_type": "code",
      "source": [
        "pnum = input(\"전화번호 입력 : \")\n",
        "# '-'을 넣었을 시 하이픈 삭제\n",
        "if '-' in pnum:\n",
        "  while '-' in pnum:\n",
        "    pnum = pnum.replace('-', \"\")\n",
        "\n",
        "if pnum.isdigit() and pnum.startswith('010') and len(pnum) == 11:\n",
        "  print(\"전화번호가 입력되었습니다\")\n",
        "else:\n",
        "  print(\"정상적이지 않은 전화번호입니다.\")\n",
        "\n",
        "# and    &\n",
        "# or     |\n",
        "# not    ~"
      ],
      "metadata": {
        "colab": {
          "base_uri": "https://localhost:8080/"
        },
        "id": "PiyHcRJA6YVw",
        "outputId": "7db33ca2-1f98-4556-e94b-30b01c939003"
      },
      "execution_count": 14,
      "outputs": [
        {
          "output_type": "stream",
          "name": "stdout",
          "text": [
            "전화번호 입력 : 010-7654-4568\n",
            "전화번호가 입력되었습니다\n"
          ]
        }
      ]
    },
    {
      "cell_type": "code",
      "source": [
        "# 조건문 in, not in\n",
        "s = \"Tomato spaghetti\"\n",
        "\n",
        "if s.find('ghe') != -1:\n",
        "  print('있습니다')\n",
        "else:\n",
        "  print(\"없습니다.\")\n",
        "\n",
        "if 'ghe' in s:\n",
        "  print('있습니다')\n",
        "else:\n",
        "  print(\"없습니다.\")\n"
      ],
      "metadata": {
        "colab": {
          "base_uri": "https://localhost:8080/"
        },
        "id": "KZDJE8677z6w",
        "outputId": "aaf966ae-24c4-4d36-bbdf-d5dd487d148b"
      },
      "execution_count": 12,
      "outputs": [
        {
          "output_type": "stream",
          "name": "stdout",
          "text": [
            "있습니다\n"
          ]
        }
      ]
    },
    {
      "cell_type": "code",
      "source": [
        "# 반복문 : while\n",
        "cnt = 0\n",
        "while cnt < 3:\n",
        "  print(cnt, end =' ')\n",
        "  cnt += 1\n",
        "print()\n",
        "\n",
        "# 반복문 : break\n",
        "i = 0\n",
        "while i < 100:\n",
        "  print(i, end=' ')\n",
        "  i += 1\n",
        "  if i == 20:\n",
        "    break\n",
        "print()\n",
        "\n",
        "# 반복문 : continue\n",
        "for i in range(1,11):\n",
        "  if i % 2 == 0:\n",
        "    continue\n",
        "  print(i,end = ' ')\n",
        "print()\n",
        "\n",
        "# 이중 for 루프\n",
        "for i in [1,2]:\n",
        "  for j in ['a','b','c']:\n",
        "    print(i*j, end = ' ')\n",
        "print()\n",
        "\n",
        "sr = ['father', 'mother', 'brother']\n",
        "cnt = 0\n",
        "for s in sr:\n",
        "  print(s, end = \"#\")\n",
        "  for c in s:\n",
        "    print(c, end=' ')\n",
        "    cnt += 1\n",
        "print(cnt)\n"
      ],
      "metadata": {
        "colab": {
          "base_uri": "https://localhost:8080/"
        },
        "id": "7SmDIV6v9Miy",
        "outputId": "8826f9a7-8c25-4b10-d3c9-dd8b5d04c61e"
      },
      "execution_count": 22,
      "outputs": [
        {
          "output_type": "stream",
          "name": "stdout",
          "text": [
            "0 1 2 \n",
            "0 1 2 3 4 5 6 7 8 9 10 11 12 13 14 15 16 17 18 19 \n",
            "1 3 5 7 9 \n",
            "a b c aa bb cc \n",
            "father#f a t h e r mother#m o t h e r brother#b r o t h e r 19\n"
          ]
        }
      ]
    },
    {
      "cell_type": "code",
      "source": [
        "# 튜플\n",
        "frns = ['동수', 131120,'진우', 130312,'선영', 13904]\n",
        "frn = (\"동수\", 131120)\n",
        "print(frn[0])\n",
        "#frn[0] = '진우'  # 튜플은 값이 치환되지 않음\n",
        "\n",
        "frns = [('동수', 131120),('진우', 130312),('선영', 13904)]\n",
        "\n",
        "\n",
        "# 딕셔너리\n",
        "dc = {\"정은호\":\"010-4568-4465\",\"구아나\":\"010-9352-0035\"}  # 키:값 의 형태\n",
        "print(dc)\n",
        "print(dc[\"정은호\"])\n",
        "\n",
        "\n",
        "# in, not in 연산을 통해 존재 유무를 확인하는 대상은\"값\"이 아니라 \"키\"\n",
        "dc1 = {'코카콜라':900, '삼다수':450}\n",
        "if '삼다수' in dc1:\n",
        "  dc1['삼다수'] = 500\n",
        "print(dc1)\n",
        "\n",
        "if '카페라떼' not in dc1:\n",
        "  dc1['카페라떼'] = 1200  # 딕셔너리 추가하는 법\n",
        "print(dc1)\n",
        "\n"
      ],
      "metadata": {
        "colab": {
          "base_uri": "https://localhost:8080/"
        },
        "id": "UrvsJvaZ-VgT",
        "outputId": "85447893-b5d4-4434-ca66-f1f88a5f015b"
      },
      "execution_count": 30,
      "outputs": [
        {
          "output_type": "stream",
          "name": "stdout",
          "text": [
            "동수\n",
            "{'정은호': '010-4568-4465', '구아나': '010-9352-0035'}\n",
            "010-4568-4465\n",
            "{'코카콜라': 900, '삼다수': 500}\n",
            "{'코카콜라': 900, '삼다수': 500, '카페라떼': 1200}\n"
          ]
        }
      ]
    },
    {
      "cell_type": "code",
      "source": [
        "# 많이 쓰이는 4가지 라이브러리\n",
        "# numpy\n",
        "# pandas\n",
        "# matplotlib\n",
        "# sk-learn"
      ],
      "metadata": {
        "id": "xfp4GnmSHB4R"
      },
      "execution_count": 31,
      "outputs": []
    },
    {
      "cell_type": "code",
      "source": [
        "# numpy (Numerical Python)\n",
        "'''\n",
        "# vector(배열): 같은 데이터 형의 값들을 나열\n",
        "import numpy as np\n",
        "\n",
        "a = np.array([1,2,3,4,5])\n",
        "b = np.array(['apple','banana','orange'])\n",
        "c = np.array([True, False, True, True])\n",
        "\n",
        "print(\"Numeric Vector: \", a)\n",
        "print(\"String Vector: \", b)\n",
        "print(\"Boolean Vector: \", c)\n",
        "\n",
        "# 빈배열 생성\n",
        "x = np.empty(3)\n",
        "print('빈 배열 생성하기: ',x)\n",
        "\n",
        "y = np.zeros(3)\n",
        "print('0으로 초기화 된 배열 생성하기 : ',y)\n",
        "\n",
        "# 배열 채우기\n",
        "x[0] = 3\n",
        "x[1] = 5\n",
        "x[2] = 3\n",
        "print(x)\n",
        "\n",
        "# np.arange()\n",
        "arr1 = np.arange(10)  # range의 값들을 numpy의 arr로 생성하는 것\n",
        "print(arr1)\n",
        "\n",
        "arr2 = np.array(0)\n",
        "print(arr2)\n",
        "'''\n",
        "# np.repeat() 함수\n",
        "repeated_vals = np.repeat(8,4)  # 반복할 값, 반복횟수\n",
        "print(repeated_vals)\n",
        "\n",
        "repeated_arr = np.repeat([1,2,4],2)  # 배열을 반복할 경우 각 배열의 값들을 반복한다.\n",
        "print(repeated_arr)\n",
        "\n",
        "repeated_each = np.repeat([1,2,4], repeats = [1,2,3])  # 각 배열의 값들을 repeats로 준 배열의 값 만큼 각각 반복한다.\n",
        "print(repeated_each)\n",
        "\n",
        "# np.tile()함수\n",
        "repeat_whole = np.tile([1,2,4], 2)       # 배열 전체를 2번 반복한다.\n",
        "print(repeat_whole)\n",
        "\n",
        "# 벡터의 길이\n",
        "a = np.array([1,2,3,4,5])\n",
        "print(len(a))\n",
        "print(a.shape)    # shape 속성은 배열의 각 차원을 튜플 형태로 반환\n",
        "print(a.size)     # size 속성은 전체 요소 수 구하기\n",
        "\n",
        "# Numpy 벡터 슬라이싱(slicing)\n",
        "np.random.seed(42)\n",
        "a = np.random.randint(1,21,10)  # 1부터 21까지 랜덤 int 10개\n",
        "print(a)\n",
        "print(a[1])\n",
        "print(a[2:5])  # slicing: 세 번째부터 다섯번째 값 까지\n",
        "print(a[-3::-1])  # 캬캬캬 야무지다!  이럴거면 반대로 정렬해서 쓰세요\n"
      ],
      "metadata": {
        "colab": {
          "base_uri": "https://localhost:8080/"
        },
        "id": "qK6CDp1CL3da",
        "outputId": "b5d234df-d3b4-4e6d-ef61-16b7bc4f165f"
      },
      "execution_count": 52,
      "outputs": [
        {
          "output_type": "stream",
          "name": "stdout",
          "text": [
            "[8 8 8 8]\n",
            "[1 1 2 2 4 4]\n",
            "[1 2 2 4 4 4]\n",
            "[1 2 4 1 2 4]\n",
            "5\n",
            "(5,)\n",
            "5\n",
            "[ 7 20 15 11  8  7 19 11 11  4]\n",
            "20\n",
            "[15 11  8]\n",
            "[11 19  7  8 11 15 20  7]\n"
          ]
        }
      ]
    },
    {
      "cell_type": "code",
      "source": [
        "import numpy as np\n",
        "\n",
        "a = np.arange(1,6)\n",
        "sum_a = np.sum(a)         # 합\n",
        "print(sum_a)\n",
        "mean_a = np.mean(a)       # 평균\n",
        "print(mean_a)\n",
        "median_a = np.median(a)   # 중앙값\n",
        "print(median_a)\n",
        "var_a = np.var(a)         # 모집단 분산\n",
        "print(var_a)\n",
        "std_a = np.std(a)         # 모집단 표준편차\n",
        "print(std_a)\n",
        "\n",
        "var_as = np.var(a, ddof=1)# 표본 분산\n",
        "print(var_as)\n",
        "std_as = np.std(a, ddof=1)# 표본 표준편차\n",
        "print(std_as)"
      ],
      "metadata": {
        "colab": {
          "base_uri": "https://localhost:8080/"
        },
        "id": "tbmQIKEFMVtf",
        "outputId": "f0274250-18f0-4a3a-bda0-ecfaae345df4"
      },
      "execution_count": 57,
      "outputs": [
        {
          "output_type": "stream",
          "name": "stdout",
          "text": [
            "15\n",
            "3.0\n",
            "3.0\n",
            "2.0\n",
            "1.4142135623730951\n",
            "2.5\n",
            "1.5811388300841898\n"
          ]
        }
      ]
    },
    {
      "cell_type": "code",
      "source": [
        "# 빈 칸을 정의하는 방법 1  Nan = Not a Number : np.nan ( 결측치, missing value)\n",
        "import numpy as np\n",
        "\n",
        "a = np.array([2,34,np.nan,23,309])\n",
        "print(a)\n",
        "print(np.mean(a))     # nan 값이 있으면 평균이 구해지지 않음 -> 분산, 표준편차 다 안됨\n",
        "print(np.nanmean(a))  # nan 값을 제외하고 평균을 구해주는 함수, nan을 완전히 배제하고 연산함. (2+34+23+3009)/4\n",
        "\n",
        "a_filtered = a[~np.isnan(a)]\n",
        "print(a_filtered)\n",
        "\n",
        "# nan과 none 값 비교\n",
        "value = np.nan\n",
        "if(np.isnan(value)):\n",
        "  print('값이 Nan입니다')\n",
        "print(value + 1)"
      ],
      "metadata": {
        "colab": {
          "base_uri": "https://localhost:8080/"
        },
        "id": "OjLg3EJpX5Jk",
        "outputId": "e6b988fb-3202-4a50-c3f0-61de25322350"
      },
      "execution_count": 62,
      "outputs": [
        {
          "output_type": "stream",
          "name": "stdout",
          "text": [
            "[  2.  34.  nan  23. 309.]\n",
            "nan\n",
            "92.0\n",
            "[  2.  34.  23. 309.]\n",
            "값이 Nan입니다\n",
            "nan\n"
          ]
        }
      ]
    },
    {
      "cell_type": "code",
      "source": [
        "# 벡터 합치기\n",
        "import numpy as np\n",
        "\n",
        "str_vec = np.array(['사과', '배', '수박','참외'])\n",
        "print(str_vec)\n",
        "# 자동으로 통일할 수 있는 자료형으로 변환 후 벡터로 저장\n",
        "mix_arr = np.array(['사과', 12, '수박','참외'])   # 정수형 12를 문자열로 바꿔서 벡터로 저장\n",
        "print(mix_arr)\n",
        "\n",
        "# 같은 행으로 쭉 이어서 붙임\n",
        "combined_vec = np.concatenate([str_vec, mix_arr])\n",
        "print(combined_vec)\n",
        "\n",
        "# 열로 세워서 stack함\n",
        "col_stacked = np.column_stack([np.arange(1,5),np.arange(12,16)])\n",
        "print(col_stacked)\n",
        "\n",
        "# 행으로 길게 세워서 stack처럼 쌓음\n",
        "#row_stacked = np.row_stack([np.arange(1,5), np.arange(12,16)])\n",
        "# Warning  `row_stack` alias is deprecated. Use `np.vstack` directly\n",
        "row_stacked = np.vstack([np.arange(1,5), np.arange(12,16)])\n",
        "print(row_stacked)\n",
        "\n",
        "# stack을 하려면 두 배열의 갯수가 맞아야 함.\n",
        "# 두 배열의 갯수가 다를 시. 에러가 발생 (아래와같이)\n",
        "#unevan_stacked = np.column_stack([np.arange(1,5), np.arange(12,18)])\n",
        "print(unevan_stacked)\n",
        "\n",
        "# np.resize(원본 np, 해당 배열을 바꾸고 싶은 길이값)  반환값: 원본 np를 바꾸고 싶은 길이값만큼 늘리거나 줄인 값.\n",
        "# 늘려야 할 땐, 아무런 매개변수가 없다면 원본 np가 처음부터 다시 반복된다\n",
        "# 두 배열의 길이가 다를 때. 붙이는 법\n",
        "vec1 = np.arange(1,5)\n",
        "vec2 = np.arange(1,18)\n",
        "vec1 = np.resize(vec1, len(vec2))\n",
        "print(vec1)\n",
        "unevan_stacked = np.column_stack([vec1, vec2])\n",
        "print(unevan_stacked)"
      ],
      "metadata": {
        "colab": {
          "base_uri": "https://localhost:8080/"
        },
        "id": "79MC5tEWbovX",
        "outputId": "cc68c690-43b5-45a7-bef3-ac4ae916b9bd"
      },
      "execution_count": 73,
      "outputs": [
        {
          "output_type": "stream",
          "name": "stdout",
          "text": [
            "['사과' '배' '수박' '참외']\n",
            "['사과' '12' '수박' '참외']\n",
            "['사과' '배' '수박' '참외' '사과' '12' '수박' '참외']\n",
            "[[ 1 12]\n",
            " [ 2 13]\n",
            " [ 3 14]\n",
            " [ 4 15]]\n",
            "[[ 1  2  3  4]\n",
            " [12 13 14 15]]\n",
            "[[ 1 12]\n",
            " [ 2 13]\n",
            " [ 3 14]\n",
            " [ 4 15]]\n",
            "[1 2 3 4 1 2 3 4 1 2 3 4 1 2 3 4 1]\n",
            "[[ 1  1]\n",
            " [ 2  2]\n",
            " [ 3  3]\n",
            " [ 4  4]\n",
            " [ 1  5]\n",
            " [ 2  6]\n",
            " [ 3  7]\n",
            " [ 4  8]\n",
            " [ 1  9]\n",
            " [ 2 10]\n",
            " [ 3 11]\n",
            " [ 4 12]\n",
            " [ 1 13]\n",
            " [ 2 14]\n",
            " [ 3 15]\n",
            " [ 4 16]\n",
            " [ 1 17]]\n"
          ]
        }
      ]
    },
    {
      "cell_type": "code",
      "source": [
        "# 행렬\n",
        "import numpy as np\n",
        "\n",
        "a = np.array([[1,2,3], [4,5,6]])  # 2차원 배열 (2행 3열)\n",
        "print(a)\n",
        "print(a.shape)  # 행렬의 크기\n",
        "\n",
        "print(a.cumsum())        # 전체를 1차원으로 보고 누적 합 을 하나하나씩 알려줌\n",
        "print(a.cumsum(axis=0))  # 열 기준 누적 합 을 하나하나 씩 알려줌\n",
        "print(a.cumsum(axis=1))  # 행 기준 누적 합 을 하나하나 씩 알려줌\n"
      ],
      "metadata": {
        "colab": {
          "base_uri": "https://localhost:8080/"
        },
        "id": "BYlNax5shG7k",
        "outputId": "299b8b92-b5a4-4d7d-c252-3103658b2840"
      },
      "execution_count": 77,
      "outputs": [
        {
          "output_type": "stream",
          "name": "stdout",
          "text": [
            "[[1 2 3]\n",
            " [4 5 6]]\n",
            "(2, 3)\n",
            "[ 1  3  6 10 15 21]\n",
            "[[1 2 3]\n",
            " [5 7 9]]\n",
            "[[ 1  3  6]\n",
            " [ 4  9 15]]\n"
          ]
        }
      ]
    },
    {
      "cell_type": "code",
      "source": [
        "# pandas (Panel Data Analysis)\n",
        "import pandas as pd\n",
        "\n",
        "import numpy as np\n",
        "\n",
        "matrix = np.array([['1','2','3','4','5'],[6,7,8,9,10]])\n",
        "print(matrix)\n",
        "\n",
        "# 데이터 프레임 (Data Frame)\n",
        "# 데이터 프레임은 서로 다른 자료형 끼리 합쳐도 그냥 서로 다른채로 합쳐진다\n",
        "df = pd.DataFrame({\n",
        "    'col1':['one','two','three','four','five'],\n",
        "    'col2':[6,7,8,9,10]\n",
        "})\n",
        "\n",
        "print(df)\n",
        "print(df['col1'].dtype)   # 문자열이 아닌 '객체' 로 구분됨\n",
        "print(df['col2'].dtype)   # 64비트의 정수로 구분"
      ],
      "metadata": {
        "colab": {
          "base_uri": "https://localhost:8080/"
        },
        "id": "S1rdyBuglcEL",
        "outputId": "c2a772ea-7d1e-4ea1-8497-19ba52742fd0"
      },
      "execution_count": 81,
      "outputs": [
        {
          "output_type": "stream",
          "name": "stdout",
          "text": [
            "[['1' '2' '3' '4' '5']\n",
            " ['6' '7' '8' '9' '10']]\n",
            "    col1  col2\n",
            "0    one     6\n",
            "1    two     7\n",
            "2  three     8\n",
            "3   four     9\n",
            "4   five    10\n",
            "object\n",
            "int64\n"
          ]
        }
      ]
    },
    {
      "cell_type": "code",
      "source": [
        "# 빈 데이터 프레임 만들기\n",
        "import pandas as pd\n",
        "\n",
        "# 딕셔너리로 만듬\n",
        "my_df = pd.DataFrame({\n",
        "    '실수' : pd.Series(dtype='float'),\n",
        "    '정수' : pd.Series(dtype='int'),\n",
        "    '범주형' : pd.Series(dtype='category'),\n",
        "    '논리' : pd.Series(dtype='bool'),\n",
        "    '문자열' : pd.Series(dtype='str'),\n",
        "})\n",
        "# pd.Series() : 판다스에서 제공하는 1차원을 만드는 함수, dtype= 옵션으로 판다스배열의 자료형을 지정\n",
        "print(my_df)\n",
        "print(my_df.dtypes)   # DataFrame에서 모든 행렬의 자료형을 확인하려면 .dtypes로 붙여야함"
      ],
      "metadata": {
        "colab": {
          "base_uri": "https://localhost:8080/"
        },
        "id": "Nmq6eYjFny5y",
        "outputId": "9d555491-5d7f-431b-862b-fbc2e7f61bc6"
      },
      "execution_count": 83,
      "outputs": [
        {
          "output_type": "stream",
          "name": "stdout",
          "text": [
            "Empty DataFrame\n",
            "Columns: [실수, 정수, 범주형, 논리, 문자열]\n",
            "Index: []\n",
            "실수      float64\n",
            "정수        int64\n",
            "범주형    category\n",
            "논리         bool\n",
            "문자열      object\n",
            "dtype: object\n"
          ]
        }
      ]
    },
    {
      "cell_type": "code",
      "source": [],
      "metadata": {
        "id": "Lnmvj1fTqT08"
      },
      "execution_count": null,
      "outputs": []
    }
  ]
}