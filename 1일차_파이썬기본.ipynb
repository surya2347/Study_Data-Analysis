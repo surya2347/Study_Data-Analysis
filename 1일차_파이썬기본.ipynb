{
  "nbformat": 4,
  "nbformat_minor": 0,
  "metadata": {
    "colab": {
      "provenance": [],
      "mount_file_id": "1ZnKgggdBf36-vpqwieBXHNZYCae89Ixj",
      "authorship_tag": "ABX9TyNT7Sky1adwjOlbwBORSfpB",
      "include_colab_link": true
    },
    "kernelspec": {
      "name": "python3",
      "display_name": "Python 3"
    },
    "language_info": {
      "name": "python"
    }
  },
  "cells": [
    {
      "cell_type": "markdown",
      "metadata": {
        "id": "view-in-github",
        "colab_type": "text"
      },
      "source": [
        "<a href=\"https://colab.research.google.com/github/surya2347/Study_Data-Analysis/blob/main/1%EC%9D%BC%EC%B0%A8_%ED%8C%8C%EC%9D%B4%EC%8D%AC%EA%B8%B0%EB%B3%B8.ipynb\" target=\"_parent\"><img src=\"https://colab.research.google.com/assets/colab-badge.svg\" alt=\"Open In Colab\"/></a>"
      ]
    },
    {
      "cell_type": "code",
      "execution_count": 3,
      "metadata": {
        "colab": {
          "base_uri": "https://localhost:8080/"
        },
        "id": "Shoqw28puQx7",
        "outputId": "b7560a93-45ef-44e4-ca52-51203a25b50b"
      },
      "outputs": [
        {
          "output_type": "stream",
          "name": "stdout",
          "text": [
            "10\n",
            "<class 'int'>\n",
            "안녕하세요\n",
            "<class 'str'>\n"
          ]
        }
      ],
      "source": [
        "number = 10\n",
        "print(number)\n",
        "print(type(number))\n",
        "\n",
        "greeting = '안녕하세요'\n",
        "print(greeting)\n",
        "print(type(greeting))"
      ]
    },
    {
      "cell_type": "code",
      "source": [
        "a = 10\n",
        "b = 3.3\n",
        "\n",
        "# 기본산술연산자\n",
        "print(\"a + b = \", a+b)\n",
        "print(\"a - b = \", a-b)\n",
        "print(\"a * b = \", a*b)\n",
        "print(\"a / b = \", a/b)   # 나누기\n",
        "print(\"a % b = \", a%b)   # 나머지\n",
        "print(\"a // b = \", a//b)   # 몫\n",
        "print(\"a ** b = \", a**b)   # 거듭제곱\n",
        "\n",
        "# 실수는 나머지와 몫을 더해도 원래 값이 나오지 않는다. 오차가 있기 때문."
      ],
      "metadata": {
        "colab": {
          "base_uri": "https://localhost:8080/"
        },
        "id": "HzRjdrfT-SkM",
        "outputId": "111fc91f-04be-4226-c1a9-05e39f583faf"
      },
      "execution_count": 6,
      "outputs": [
        {
          "output_type": "stream",
          "name": "stdout",
          "text": [
            "a + b =  13.3\n",
            "a - b =  6.7\n",
            "a * b =  33.0\n",
            "a / b =  3.0303030303030303\n",
            "a % b =  0.10000000000000053\n",
            "a // b =  3.0\n",
            "a ** b =  1995.2623149688789\n"
          ]
        }
      ]
    },
    {
      "cell_type": "code",
      "source": [
        "# 비교연산자\n",
        "a = 10\n",
        "b = 20\n",
        "print(\"a == b :\", a==b)   # 동등연산자\n",
        "print(\"a != b :\", a!=b)   # 부등연산자\n",
        "\n",
        "# 크기비교\n",
        "print(\"a > b :\", a>b)\n",
        "print(\"a < b :\", a<b)\n",
        "\n",
        "# 크거나 같음, 작거나 같음\n",
        "print(\"a >= b :\", a>=b)\n",
        "print(\"a <= b :\", a<=b)\n"
      ],
      "metadata": {
        "colab": {
          "base_uri": "https://localhost:8080/"
        },
        "id": "6OJXV4x8AE7Y",
        "outputId": "f83039c3-6335-4601-b404-c919c3cce2b8"
      },
      "execution_count": 8,
      "outputs": [
        {
          "output_type": "stream",
          "name": "stdout",
          "text": [
            "a == b : False\n",
            "a != b : True\n",
            "a > b : False\n",
            "a < b : True\n",
            "a >= b : False\n",
            "a <= b : True\n"
          ]
        }
      ]
    },
    {
      "cell_type": "code",
      "source": [
        "# 사용자 나이 검증 예제\n",
        "user_age = 25\n",
        "is_adult = user_age >= 18\n",
        "print(\"성인입니까?: \", is_adult)"
      ],
      "metadata": {
        "colab": {
          "base_uri": "https://localhost:8080/"
        },
        "id": "OrYNK0TSDglf",
        "outputId": "0d12a88a-2d7b-4076-bbb1-e6e93086d23c"
      },
      "execution_count": 9,
      "outputs": [
        {
          "output_type": "stream",
          "name": "stdout",
          "text": [
            "성인입니까?:  True\n"
          ]
        }
      ]
    },
    {
      "cell_type": "code",
      "source": [
        "# 논리 연산자\n",
        "a = True\n",
        "b = False\n",
        "\n",
        "#and 연산자\n",
        "print(\" a and b:\", a and b)\n",
        "\n",
        "#or 연산자\n",
        "print(\" a or b:\",a or b)\n",
        "\n",
        "#not 연산자\n",
        "print(\" not a:\", not a)"
      ],
      "metadata": {
        "colab": {
          "base_uri": "https://localhost:8080/"
        },
        "id": "_4rcMxR-EMhs",
        "outputId": "d6cd793b-6726-4631-bc96-03311bde3414"
      },
      "execution_count": 18,
      "outputs": [
        {
          "output_type": "stream",
          "name": "stdout",
          "text": [
            " a and b: False\n",
            " a or b: True\n",
            " not a: False\n"
          ]
        }
      ]
    },
    {
      "cell_type": "code",
      "source": [
        "# 함수 예제\n",
        "def adder(num1, num2):\n",
        "  return num1 + num2\n",
        "\n",
        "def minus(num1, num2):\n",
        "  return num1 - num2\n",
        "\n",
        "def multiple(num1, num2):\n",
        "  return num1 * num2\n",
        "\n",
        "def divide(num1, num2):\n",
        "  return num1 / num2\n",
        "\n",
        "print(adder(5,3))\n",
        "print(minus(5,3))\n",
        "print(multiple(5,3))\n",
        "print(divide(5,3))\n"
      ],
      "metadata": {
        "colab": {
          "base_uri": "https://localhost:8080/"
        },
        "id": "Ly0l9mgXE_yU",
        "outputId": "a4b56f34-0584-480c-8891-a434130f4f1a"
      },
      "execution_count": 21,
      "outputs": [
        {
          "output_type": "stream",
          "name": "stdout",
          "text": [
            "8\n",
            "2\n",
            "15\n",
            "1.6666666666666667\n"
          ]
        }
      ]
    },
    {
      "cell_type": "code",
      "source": [
        "# 사용자로부터 입력 받기 : input()\n",
        "\n",
        "age = input(\"몇살이세요?\")\n",
        "print(age)\n",
        "print(type(age))\n",
        "age = eval(age)   # 문자열형을 정수형으로 변경\n",
        "print(type(age))\n",
        "age = age + 1\n",
        "print(age)"
      ],
      "metadata": {
        "colab": {
          "base_uri": "https://localhost:8080/"
        },
        "id": "2o69gGhaJvuP",
        "outputId": "2c8069be-1057-445b-fdac-2833507f936f"
      },
      "execution_count": 28,
      "outputs": [
        {
          "output_type": "stream",
          "name": "stdout",
          "text": [
            "몇살이세요?12\n",
            "12\n",
            "<class 'str'>\n",
            "<class 'int'>\n",
            "13\n"
          ]
        }
      ]
    },
    {
      "cell_type": "code",
      "source": [
        "# 반복문: for in\n",
        "for i in [0,1,2]:\n",
        "  print(i)\n",
        "  print(\"안녕~\")"
      ],
      "metadata": {
        "colab": {
          "base_uri": "https://localhost:8080/"
        },
        "id": "rZJqi4SlK-w6",
        "outputId": "ec3bb305-651a-42ea-beda-f816feecf4c3"
      },
      "execution_count": 31,
      "outputs": [
        {
          "output_type": "stream",
          "name": "stdout",
          "text": [
            "0\n",
            "안녕~\n",
            "1\n",
            "안녕~\n",
            "2\n",
            "안녕~\n"
          ]
        }
      ]
    },
    {
      "cell_type": "code",
      "source": [
        "sum = 0\n",
        "for i in range(10):\n",
        "  sum += i+1\n",
        "\n",
        "print(sum)\n",
        "\n",
        "sum = 0\n",
        "for i in range(1,11):\n",
        "  sum += i\n",
        "\n",
        "print(sum)\n",
        "\n",
        "for i in range(3):\n",
        "  print(i)\n",
        "  print(\"Happy\")\n"
      ],
      "metadata": {
        "colab": {
          "base_uri": "https://localhost:8080/"
        },
        "id": "6hJN6EBQM7dK",
        "outputId": "0e388ce8-8602-487b-8e5d-ce7d3f6c6643"
      },
      "execution_count": 38,
      "outputs": [
        {
          "output_type": "stream",
          "name": "stdout",
          "text": [
            "55\n",
            "55\n",
            "0\n",
            "Happy\n",
            "1\n",
            "Happy\n",
            "2\n",
            "Happy\n"
          ]
        }
      ]
    },
    {
      "cell_type": "code",
      "source": [
        "# 복합대입연산자\n",
        "\n",
        "num = 10\n",
        "num += 2   # num = num + 2\n",
        "print(num)\n",
        "num -= 2   # num = num - 2\n",
        "print(num)\n",
        "num *= 2   # num = num * 2\n",
        "print(num)\n",
        "num /= 2   # num = num / 2\n",
        "print(num)"
      ],
      "metadata": {
        "colab": {
          "base_uri": "https://localhost:8080/"
        },
        "id": "rDetJQB4OdN9",
        "outputId": "fa561630-b46f-455a-9a76-c61945ee98a6"
      },
      "execution_count": 40,
      "outputs": [
        {
          "output_type": "stream",
          "name": "stdout",
          "text": [
            "12\n",
            "10\n",
            "20\n",
            "10.0\n"
          ]
        }
      ]
    },
    {
      "cell_type": "code",
      "source": [
        "# 리스트형\n",
        "[1,2,3]  # 대괄호 안에 데이터들을 입력\n",
        "print([1,2,3] + [4,5])   # 리스트끼리 합쳐짐\n",
        "print([1,2,3] * 2)       # 리스트 반복\n",
        "\n",
        "\n",
        "\n",
        "\n",
        "# 데이터프레임 형 = 리스트를 합쳐둔 2차원형태"
      ],
      "metadata": {
        "colab": {
          "base_uri": "https://localhost:8080/"
        },
        "id": "F-kIk2iIQ1Su",
        "outputId": "ee5ceb26-3f1d-4acd-d208-5f38039cc594"
      },
      "execution_count": 42,
      "outputs": [
        {
          "output_type": "stream",
          "name": "stdout",
          "text": [
            "[1, 2, 3, 4, 5]\n",
            "[1, 2, 3, 1, 2, 3]\n"
          ]
        }
      ]
    },
    {
      "cell_type": "code",
      "source": [
        "# 리스트형 데이터 연산 : 인덱스 연산\n",
        "st = [1,2,3,4,5]\n",
        "n1 = st[0]\n",
        "n2 = st[4]\n",
        "print(n1,n2)\n",
        "\n",
        "# 인덱싱 연산 - 수정/치환 [ 이건 튜플에서는 안됨 ]\n",
        "st[0] = 5\n",
        "st[4] = 1\n",
        "print(st)"
      ],
      "metadata": {
        "colab": {
          "base_uri": "https://localhost:8080/"
        },
        "id": "hrzjbahORZG6",
        "outputId": "1629bb23-2161-44ad-db1d-deea24708f39"
      },
      "execution_count": 44,
      "outputs": [
        {
          "output_type": "stream",
          "name": "stdout",
          "text": [
            "1 5\n",
            "[5, 2, 3, 4, 1]\n"
          ]
        }
      ]
    },
    {
      "cell_type": "code",
      "source": [
        "# 리스트형 데이터 연산 : 슬라이싱 연산\n",
        "st1 = [1,2,3,4,5,6,7,8,9]\n",
        "st2 = st1[2:5]  # 인덱스 2번 부터 5번을 만나면 5번을 넣지않고 stop\n",
        "st3 = st1[0:9:3]  # 인덱스 0번부터 9번을 만나기 전까지 +3 단위로 슬라이싱\n",
        "print(st2)\n",
        "print(st3)"
      ],
      "metadata": {
        "colab": {
          "base_uri": "https://localhost:8080/"
        },
        "id": "vNMGNdlBSiZA",
        "outputId": "75411964-6808-410b-feae-ad97d96636ce"
      },
      "execution_count": 49,
      "outputs": [
        {
          "output_type": "stream",
          "name": "stdout",
          "text": [
            "[3, 4, 5]\n",
            "[1, 4, 7]\n"
          ]
        }
      ]
    },
    {
      "cell_type": "code",
      "source": [
        "# 리스트와 함수들\n",
        "st = [2,5,3,7,4]\n",
        "num1 = len(st)\n",
        "print(num1)\n",
        "num2 = min(st)\n",
        "print(num2)\n",
        "num3 = max(st)\n",
        "print(num3)\n",
        "\n",
        "st.remove(3)  # 3의 값을 삭제\n",
        "print(st)\n",
        "st.append(8)\n",
        "print(st)\n",
        "st.pop(3)     # 인덱스가 3인 값을 삭제\n",
        "print(st)\n",
        "st.extend([10])  # [2, 5, 7, 8] + [10] 과 같은 연산\n",
        "print(st)\n",
        "st.insert(2,3)   # 인덱스 2 번에다가 값 3을 추가, 기존값은 뒤로 밀림\n",
        "print(st)\n",
        "st.clear()\n",
        "print(st)\n",
        "\n",
        "st2 = [1,2,3,1,2]\n",
        "print(st2.count(1))  # 1이라는 값이 몇 개인지 count!\n",
        "print(st2.index(1))  # 처음 \"1\" 의 값이 등장하는 위치의 인덱스"
      ],
      "metadata": {
        "colab": {
          "base_uri": "https://localhost:8080/"
        },
        "id": "ol4cch8-TEhq",
        "outputId": "e8dde292-2da4-44b2-9bcb-6b9c697b2696"
      },
      "execution_count": 61,
      "outputs": [
        {
          "output_type": "stream",
          "name": "stdout",
          "text": [
            "5\n",
            "2\n",
            "7\n",
            "[2, 5, 7, 4]\n",
            "[2, 5, 7, 4, 8]\n",
            "[2, 5, 7, 8]\n",
            "[2, 5, 7, 8, 10]\n",
            "[2, 5, 3, 7, 8, 10]\n",
            "[]\n",
            "2\n",
            "0\n"
          ]
        }
      ]
    },
    {
      "cell_type": "code",
      "source": [
        "# 문자열과 함수\n",
        "st = \"HongKillDong\"\n",
        "print(st.count(\"o\"))\n",
        "print(st.lower())\n",
        "print(st.upper())\n",
        "\n",
        "st2 = \"       Middle       \"\n",
        "print(st2.lstrip())  # left쪽 공백을 모두 제거\n",
        "print(st2.rstrip())  # right쪽 공백을 모두 제거\n",
        "print(st2.strip())   # 양쪽 공백을 모두 제거\n",
        "\n",
        "print(st.replace(\"H\",\"Ch\"))\n",
        "\n",
        "\n",
        "st3 = \"ab cd ef\"\n",
        "print(st3.split())   # 매개변수로 아무것도 주지 않을 시, 공백을 기준으로 split\n",
        "\n",
        "st4 = \"What is important is that you should choose what is best for you\"\n",
        "print(st4.find(\"is\"))     # 앞에서부터 첫번째 \"is\"가 있는 위치의 인덱스 값\n",
        "print(st4.rfind(\"is\"))    # 뒤에서부터 첫번째 \"is\"가 있는 위치의 인덱스 값\n",
        "print(st4.find(\"Happy\"))  # 없는 값이면 -1 반환"
      ],
      "metadata": {
        "colab": {
          "base_uri": "https://localhost:8080/"
        },
        "id": "CF8HynVXZIDP",
        "outputId": "c8dce087-2ca4-4c15-e537-d1b78c21b56b"
      },
      "execution_count": 77,
      "outputs": [
        {
          "output_type": "stream",
          "name": "stdout",
          "text": [
            "2\n",
            "hongkilldong\n",
            "HONGKILLDONG\n",
            "Middle       \n",
            "       Middle\n",
            "Middle\n",
            "ChongKillDong\n",
            "['ab', 'cd', 'ef']\n",
            "5\n",
            "49\n",
            "-1\n"
          ]
        }
      ]
    },
    {
      "cell_type": "code",
      "source": [],
      "metadata": {
        "id": "PTeXBwQFc6FC"
      },
      "execution_count": null,
      "outputs": []
    }
  ]
}